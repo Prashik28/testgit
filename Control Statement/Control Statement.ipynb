{
 "cells": [
  {
   "cell_type": "code",
   "execution_count": 2,
   "metadata": {
    "scrolled": true
   },
   "outputs": [
    {
     "name": "stdout",
     "output_type": "stream",
     "text": [
      "Prashik\n"
     ]
    }
   ],
   "source": [
    "print(\"Prashik\")"
   ]
  },
  {
   "cell_type": "code",
   "execution_count": null,
   "metadata": {},
   "outputs": [],
   "source": [
    "import math"
   ]
  },
  {
   "cell_type": "code",
   "execution_count": null,
   "metadata": {},
   "outputs": [],
   "source": [
    "radius=float(input(\"Enter radius of circle : \"))"
   ]
  },
  {
   "cell_type": "code",
   "execution_count": null,
   "metadata": {},
   "outputs": [],
   "source": [
    "area=math.pi*radius**2"
   ]
  },
  {
   "cell_type": "code",
   "execution_count": null,
   "metadata": {},
   "outputs": [],
   "source": [
    "area"
   ]
  },
  {
   "cell_type": "code",
   "execution_count": null,
   "metadata": {},
   "outputs": [],
   "source": [
    "print(\"Area of circle : {:0.2f}\".format(area))"
   ]
  },
  {
   "cell_type": "code",
   "execution_count": null,
   "metadata": {},
   "outputs": [],
   "source": [
    "radius=float(input(\"Enter radius of circle : \"))\n",
    "area=math.pi*radius**2\n",
    "print(\"Area of circle : {:0.2f}\".format(area))"
   ]
  },
  {
   "cell_type": "code",
   "execution_count": null,
   "metadata": {
    "slideshow": {
     "slide_type": "slide"
    }
   },
   "outputs": [],
   "source": [
    "num=2\n",
    "if num==1:\n",
    "    print(\"One\")\n",
    "else:\n",
    "    print(\"Not One\")"
   ]
  },
  {
   "cell_type": "code",
   "execution_count": null,
   "metadata": {},
   "outputs": [],
   "source": [
    "a=9\n",
    "if a>10:\n",
    "    print(\"Number is\",a)\n",
    "    if a<=30:\n",
    "        print(\"Number is less than 30\")\n",
    "    else:\n",
    "        print(\"ABCD\")\n",
    "else:\n",
    "    print(\"PQRS\")"
   ]
  },
  {
   "cell_type": "code",
   "execution_count": 1,
   "metadata": {},
   "outputs": [
    {
     "name": "stdout",
     "output_type": "stream",
     "text": [
      "Enter a number:4\n",
      "Number 4 is even\n"
     ]
    }
   ],
   "source": [
    "###Program to check if the entered number is Even Or Odd\n",
    "x=int(input(\"Enter a number:\"))\n",
    "if x % 2 == 0:\n",
    "    print(\"Number %d is even\" % (x))\n",
    "else:\n",
    "    print(\"Number %d is Odd\" % (x))"
   ]
  },
  {
   "cell_type": "code",
   "execution_count": null,
   "metadata": {},
   "outputs": [],
   "source": [
    "##Program to check if the entered nummber is between 1 to 10 or not\n",
    "x=int(input(\"Enter number :\"))\n",
    "if x>0 and x<11:\n",
    "    print(\"You Entered %d\" % (x), \" which is between 1 and 10\")\n",
    "else:\n",
    "    print(\"You Entered %d\" % (x), \" which is out of range between 1 to 10\")"
   ]
  },
  {
   "cell_type": "code",
   "execution_count": null,
   "metadata": {},
   "outputs": [],
   "source": [
    "##Program to check if the entered nummber is between 1 to 10 or not\n",
    "x=int(input(\"Enter number :\"))\n",
    "if x>0 and x<11:\n",
    "    print(\"You Entered %d\" % (x), \" which is between 1 and 10\")\n",
    "else:\n",
    "    print(\"You Entered %d\" % (x), \" which is out of range between 1 to 10\")"
   ]
  },
  {
   "cell_type": "code",
   "execution_count": null,
   "metadata": {},
   "outputs": [],
   "source": [
    "###Program to check if the entered number is zero, positive or nnegative\n",
    "x=int(input(\"Enter Number :\"))\n",
    "if x==0:\n",
    "    print(\"You entered Zero\")\n",
    "elif x>0:\n",
    "    print(\"You entered positive number\")\n",
    "else:\n",
    "    print(\"You entered negative number\")"
   ]
  },
  {
   "cell_type": "code",
   "execution_count": null,
   "metadata": {},
   "outputs": [],
   "source": [
    "###Program to print the number in words between 1 to 5\n",
    "x=int(input(\"Enter Number : \"))\n",
    "if x==1: print(\"One\")\n",
    "elif x==2: print(\"Two\")\n",
    "elif x==3: print(\"Three\")\n",
    "elif x==4: print(\"Four\")\n",
    "elif x==5: print(\"Five\")\n",
    "else:\n",
    "    print(\"Enter number between 1 and 5, including\")"
   ]
  },
  {
   "cell_type": "code",
   "execution_count": null,
   "metadata": {},
   "outputs": [],
   "source": [
    "###Program to display number between 1 and 10\n",
    "x=1\n",
    "while x<=10:\n",
    "    print(x)\n",
    "    x+=1"
   ]
  },
  {
   "cell_type": "code",
   "execution_count": null,
   "metadata": {},
   "outputs": [],
   "source": [
    "#####Program to enter a number and print table\n",
    "x=int(input(\"Enter number : \"))\n",
    "p=1\n",
    "while p<=10:\n",
    "    print(\"%d * %d = %d\" %(x,p,x*p))\n",
    "    p+=1"
   ]
  },
  {
   "cell_type": "code",
   "execution_count": null,
   "metadata": {},
   "outputs": [],
   "source": [
    "####Print even numbers between two numbers\n",
    "x,y=input(\"Enter two numbers: \").split(',')\n",
    "\n",
    "if int(x)<int(y):\n",
    "    a=int(x)\n",
    "    b=int(y)\n",
    "    if a-b>100 or a-b<-100:\n",
    "        print(\"Range is too big\")\n",
    "    else:\n",
    "        while a<=b:\n",
    "            if a%2==0:\n",
    "                print (a)\n",
    "            a+=1\n",
    "else:\n",
    "    a=int(y)\n",
    "    b=int(x)\n",
    "    if a-b>100 or a-b<-100:\n",
    "        print(\"Range is too big\")\n",
    "    else:\n",
    "        while a<=b:\n",
    "            if a%2==0:\n",
    "                print (a)\n",
    "            a+=1\n",
    "\n",
    "    \n",
    "\n"
   ]
  },
  {
   "cell_type": "code",
   "execution_count": 3,
   "metadata": {},
   "outputs": [
    {
     "name": "stdout",
     "output_type": "stream",
     "text": [
      "prashik\n"
     ]
    }
   ],
   "source": [
    "print (\"prashik\")"
   ]
  },
  {
   "cell_type": "code",
   "execution_count": 2,
   "metadata": {},
   "outputs": [
    {
     "name": "stdout",
     "output_type": "stream",
     "text": [
      "Enter string :Pallavi\n",
      "You entered : Pallavi\n",
      "P\n",
      "a\n",
      "l\n",
      "l\n",
      "a\n",
      "v\n",
      "i\n"
     ]
    }
   ],
   "source": [
    "###Program to display each character from string\n",
    "st=input(\"Enter string :\")\n",
    "print(\"You entered :\", st)\n",
    "for ch in st:\n",
    "    print(ch)"
   ]
  },
  {
   "cell_type": "code",
   "execution_count": 8,
   "metadata": {},
   "outputs": [
    {
     "name": "stdout",
     "output_type": "stream",
     "text": [
      "Enter String : Prashik\n",
      "You entered: Prashik\n",
      "String Prashik has 7 characters\n",
      "P\n",
      "r\n",
      "a\n",
      "s\n",
      "h\n",
      "i\n",
      "k\n"
     ]
    }
   ],
   "source": [
    "st=input(\"Enter String : \")\n",
    "print(\"You entered: %s\" % (st))\n",
    "n=len(st)\n",
    "print(\"String %s has %d characters\" % (st,n))\n",
    "for i in range(len(st)):\n",
    "    print(st[i])"
   ]
  },
  {
   "cell_type": "code",
   "execution_count": 17,
   "metadata": {},
   "outputs": [
    {
     "name": "stdout",
     "output_type": "stream",
     "text": [
      "Enter two number separated by comma :2,1000\n",
      "Out of range\n"
     ]
    }
   ],
   "source": [
    "###Using for loop, program to print odd numbers between given range\n",
    "x,y=input(\"Enter two number separated by comma :\").split(',')\n",
    "x=int(x)\n",
    "y=int(y)\n",
    "if x%2==0:\n",
    "    x+=1\n",
    "if y-x/2>50:\n",
    "    print(\"Out of range\")\n",
    "else:\n",
    "    for i in range(x,y,2):\n",
    "        print(i)"
   ]
  },
  {
   "cell_type": "code",
   "execution_count": 18,
   "metadata": {},
   "outputs": [
    {
     "name": "stdout",
     "output_type": "stream",
     "text": [
      "10\n",
      "9\n",
      "8\n",
      "7\n",
      "6\n",
      "5\n",
      "4\n",
      "3\n",
      "2\n",
      "1\n"
     ]
    }
   ],
   "source": [
    "###Program to display numbers in desending order\n",
    "for i in range(10,0,-1):\n",
    "    print(i)"
   ]
  },
  {
   "cell_type": "code",
   "execution_count": 22,
   "metadata": {},
   "outputs": [
    {
     "name": "stdout",
     "output_type": "stream",
     "text": [
      "Number of elements in list:  5\n",
      "Prashik\n",
      "24.08\n",
      "Bansod\n",
      "1234\n",
      "BNP Paribas\n"
     ]
    }
   ],
   "source": [
    "list=['Prashik',24.08,'Bansod',1234,'BNP Paribas']\n",
    "print(\"Number of elements in list: \",len(list))\n",
    "for i in range(len(list)):\n",
    "    print(list[i])"
   ]
  },
  {
   "cell_type": "code",
   "execution_count": 23,
   "metadata": {},
   "outputs": [
    {
     "name": "stdout",
     "output_type": "stream",
     "text": [
      "Sum of numbers in a list [1, 2, 5, 7, 2, 4, 8, 4, 9, 12, 76, 56, 45, 87, 100, 3, 4, 23, 42]  = 171\n"
     ]
    }
   ],
   "source": [
    "### Program to find SUM of list with numbers using for loop\n",
    "list=[1,2,5,7,2,4,8,4,9,12,76,56,45,87,100,3,4,23,42]\n",
    "sum=0\n",
    "for i in range(len(list)):\n",
    "    sum+=i\n",
    "print (\"Sum of numbers in a list\",list ,\" = %d\" % (sum))"
   ]
  },
  {
   "cell_type": "code",
   "execution_count": 2,
   "metadata": {},
   "outputs": [
    {
     "name": "stdout",
     "output_type": "stream",
     "text": [
      "Sum : 490\n"
     ]
    }
   ],
   "source": [
    "####Program to find sum of numbers from list using while loop\n",
    "list=[1,2,5,7,2,4,8,4,9,12,76,56,45,87,100,3,4,23,42]\n",
    "sum=0\n",
    "i=0\n",
    "while i<len(list):\n",
    "    sum+=list[i]\n",
    "    i+=1\n",
    "print (\"Sum : %d\" %(sum))    "
   ]
  },
  {
   "cell_type": "code",
   "execution_count": 1,
   "metadata": {},
   "outputs": [
    {
     "name": "stdout",
     "output_type": "stream",
     "text": [
      "Enter String to print  bannerPrashik\n"
     ]
    }
   ],
   "source": [
    "####Program to take string as input and print banner\n",
    "st=input(\"Enter String to print  banner\")\n",
    "n=len(st)\n"
   ]
  },
  {
   "cell_type": "code",
   "execution_count": null,
   "metadata": {},
   "outputs": [],
   "source": []
  },
  {
   "cell_type": "code",
   "execution_count": null,
   "metadata": {},
   "outputs": [],
   "source": []
  }
 ],
 "metadata": {
  "celltoolbar": "Tags",
  "kernelspec": {
   "display_name": "Python 3",
   "language": "python",
   "name": "python3"
  },
  "language_info": {
   "codemirror_mode": {
    "name": "ipython",
    "version": 3
   },
   "file_extension": ".py",
   "mimetype": "text/x-python",
   "name": "python",
   "nbconvert_exporter": "python",
   "pygments_lexer": "ipython3",
   "version": "3.6.4"
  }
 },
 "nbformat": 4,
 "nbformat_minor": 2
}
